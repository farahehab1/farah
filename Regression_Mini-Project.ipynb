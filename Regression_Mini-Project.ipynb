{
  "cells": [
    {
      "cell_type": "markdown",
      "id": "bbe7ff35",
      "metadata": {
        "id": "bbe7ff35"
      },
      "source": [
        "# Data Mining — Linear Regression — Mini-Project 1 (Energy Consumption)\n",
        "\n",
        "**Course:** [CSEN911] Data Mining (Winter 2025)  \n",
        "**Instructor:** Dr. Ayman Alserafi  \n",
        "**Due:** 24 October 2025, 11:59 PM\n",
        "\n",
        "**Dataset:** `energy_data.csv`  \n",
        "\n",
        "\n",
        "> **Instructions:** For every step, write your own explanations and justifications and visualization in the provided Markdown prompts.\n",
        "\n",
        "\n"
      ]
    },
    {
      "cell_type": "markdown",
      "id": "b086a153",
      "metadata": {
        "id": "b086a153"
      },
      "source": [
        "***Edit this cell with your name(s), tutorial number(s) and ID(s)***\n",
        "\n",
        "---\n",
        "\n",
        "Name: Farah Ehab\n",
        "\n",
        "ID:58-4100\n",
        "\n",
        "Tutorial: 02\n",
        "\n",
        "---\n",
        "\n",
        "Name: Zeina Ossama\n",
        "\n",
        "ID:58-2093\n",
        "\n",
        "Tutorial: 02\n",
        "\n",
        "---\n"
      ]
    },
    {
      "cell_type": "markdown",
      "id": "da2958bb",
      "metadata": {
        "id": "da2958bb"
      },
      "source": [
        "The dataset contains building-level energy readings and contextual attributes.\n",
        "\n",
        "Each row represents a building observation. Columns include:\n",
        "\n",
        "<div style=\"font-size:20px;\">\n",
        "\n",
        "| **Column** | **Description** |\n",
        "|-------------|-----------------|\n",
        "| **Building_ID** | Unique identifier for each building record. Used to distinguish one building entry from another. |\n",
        "| **Building_Type** | Category describing the primary use of the building (e.g., Residential, Commercial, Industrial, Educational, etc.). |\n",
        "| **Governorate** | The administrative region (governorate) where the building is located (e.g., Cairo, Giza, Alexandria). |\n",
        "| **Neighborhood** | The smaller district or local area within the governorate where the building is located. |\n",
        "| **Day_of_Week** | The day on which the energy consumption measurement was recorded (e.g., Sunday, Monday, etc.). |\n",
        "| **Occupancy_Level** | The relative number of occupants or activity level in the building, typically categorized as *Low*, *Medium*, or *High*. |\n",
        "| **Appliances_Usage_Level** | Indicates how intensively appliances are used in the building *Low*, *Medium*, or *High*. |\n",
        "| **SquareFootage** | The total floor area of the building (numeric). Serves as a proxy for building size, often influencing energy usage. |\n",
        "| **Last_Maintenance_Date** | The date of the last maintainance done on the building. |\n",
        "| **Average_Temperature** | The average ambient temperature (in °C) recorded during the data period. |\n",
        "| **Energy_Consumption** | The total energy used by the building, typically measured in kilowatt-hours (kWh).|\n",
        "\n",
        "</div>\n"
      ]
    },
    {
      "cell_type": "markdown",
      "id": "54979aed",
      "metadata": {
        "id": "54979aed"
      },
      "source": [
        "## Importing Libraries & Dataset"
      ]
    },
    {
      "cell_type": "code",
      "execution_count": 80,
      "id": "b5c14ccd",
      "metadata": {
        "id": "b5c14ccd",
        "outputId": "eda9a65a-ef84-46b4-b6d3-18e1d251607f",
        "scrolled": true,
        "colab": {
          "base_uri": "https://localhost:8080/",
          "height": 295
        }
      },
      "outputs": [
        {
          "output_type": "execute_result",
          "data": {
            "text/plain": [
              "   Building_ID Building_Type Governorate    Neighborhood Day_of_Week  \\\n",
              "0  BLD-1000-UD   Residential  Alexandria          Smouha   WeDnesday   \n",
              "1  BLD-1001-AX    Commercial        Giza  +Mohandessin14     tuesDAY   \n",
              "2  BLD-1002-IH    Industrial       Cairo       New Cairo      SunDay   \n",
              "3  BLD-1003-HE           NaN         NaN        +92Dokki     TuesDay   \n",
              "4  BLD-1004-XD    Commercial  Alexandria          Smouha      Monday   \n",
              "\n",
              "  Occupancy_Level Appliances_Usage_Level SquareFootage Last_Maintenance_Date  \\\n",
              "0            High                    Low        7063m2            2020-01-01   \n",
              "1            High                   High       44372m2            2022-02-24   \n",
              "2          Medium                    Low         19255            2021-02-22   \n",
              "3             Low                   High         13265            2023-07-30   \n",
              "4             Low                    Low         13375            2022-08-12   \n",
              "\n",
              "   Average_Temperature Energy_Consumption  \n",
              "0                28.61        2713.95 kWh  \n",
              "1                  NaN        5744.99 kWh  \n",
              "2                37.88        4101.24 kWh  \n",
              "3                35.06        3009.14 kWh  \n",
              "4                28.82        3279.17 kWh  "
            ],
            "text/html": [
              "\n",
              "  <div id=\"df-aac61212-5deb-43b0-8170-5e00b96c9633\" class=\"colab-df-container\">\n",
              "    <div>\n",
              "<style scoped>\n",
              "    .dataframe tbody tr th:only-of-type {\n",
              "        vertical-align: middle;\n",
              "    }\n",
              "\n",
              "    .dataframe tbody tr th {\n",
              "        vertical-align: top;\n",
              "    }\n",
              "\n",
              "    .dataframe thead th {\n",
              "        text-align: right;\n",
              "    }\n",
              "</style>\n",
              "<table border=\"1\" class=\"dataframe\">\n",
              "  <thead>\n",
              "    <tr style=\"text-align: right;\">\n",
              "      <th></th>\n",
              "      <th>Building_ID</th>\n",
              "      <th>Building_Type</th>\n",
              "      <th>Governorate</th>\n",
              "      <th>Neighborhood</th>\n",
              "      <th>Day_of_Week</th>\n",
              "      <th>Occupancy_Level</th>\n",
              "      <th>Appliances_Usage_Level</th>\n",
              "      <th>SquareFootage</th>\n",
              "      <th>Last_Maintenance_Date</th>\n",
              "      <th>Average_Temperature</th>\n",
              "      <th>Energy_Consumption</th>\n",
              "    </tr>\n",
              "  </thead>\n",
              "  <tbody>\n",
              "    <tr>\n",
              "      <th>0</th>\n",
              "      <td>BLD-1000-UD</td>\n",
              "      <td>Residential</td>\n",
              "      <td>Alexandria</td>\n",
              "      <td>Smouha</td>\n",
              "      <td>WeDnesday</td>\n",
              "      <td>High</td>\n",
              "      <td>Low</td>\n",
              "      <td>7063m2</td>\n",
              "      <td>2020-01-01</td>\n",
              "      <td>28.61</td>\n",
              "      <td>2713.95 kWh</td>\n",
              "    </tr>\n",
              "    <tr>\n",
              "      <th>1</th>\n",
              "      <td>BLD-1001-AX</td>\n",
              "      <td>Commercial</td>\n",
              "      <td>Giza</td>\n",
              "      <td>+Mohandessin14</td>\n",
              "      <td>tuesDAY</td>\n",
              "      <td>High</td>\n",
              "      <td>High</td>\n",
              "      <td>44372m2</td>\n",
              "      <td>2022-02-24</td>\n",
              "      <td>NaN</td>\n",
              "      <td>5744.99 kWh</td>\n",
              "    </tr>\n",
              "    <tr>\n",
              "      <th>2</th>\n",
              "      <td>BLD-1002-IH</td>\n",
              "      <td>Industrial</td>\n",
              "      <td>Cairo</td>\n",
              "      <td>New Cairo</td>\n",
              "      <td>SunDay</td>\n",
              "      <td>Medium</td>\n",
              "      <td>Low</td>\n",
              "      <td>19255</td>\n",
              "      <td>2021-02-22</td>\n",
              "      <td>37.88</td>\n",
              "      <td>4101.24 kWh</td>\n",
              "    </tr>\n",
              "    <tr>\n",
              "      <th>3</th>\n",
              "      <td>BLD-1003-HE</td>\n",
              "      <td>NaN</td>\n",
              "      <td>NaN</td>\n",
              "      <td>+92Dokki</td>\n",
              "      <td>TuesDay</td>\n",
              "      <td>Low</td>\n",
              "      <td>High</td>\n",
              "      <td>13265</td>\n",
              "      <td>2023-07-30</td>\n",
              "      <td>35.06</td>\n",
              "      <td>3009.14 kWh</td>\n",
              "    </tr>\n",
              "    <tr>\n",
              "      <th>4</th>\n",
              "      <td>BLD-1004-XD</td>\n",
              "      <td>Commercial</td>\n",
              "      <td>Alexandria</td>\n",
              "      <td>Smouha</td>\n",
              "      <td>Monday</td>\n",
              "      <td>Low</td>\n",
              "      <td>Low</td>\n",
              "      <td>13375</td>\n",
              "      <td>2022-08-12</td>\n",
              "      <td>28.82</td>\n",
              "      <td>3279.17 kWh</td>\n",
              "    </tr>\n",
              "  </tbody>\n",
              "</table>\n",
              "</div>\n",
              "    <div class=\"colab-df-buttons\">\n",
              "\n",
              "  <div class=\"colab-df-container\">\n",
              "    <button class=\"colab-df-convert\" onclick=\"convertToInteractive('df-aac61212-5deb-43b0-8170-5e00b96c9633')\"\n",
              "            title=\"Convert this dataframe to an interactive table.\"\n",
              "            style=\"display:none;\">\n",
              "\n",
              "  <svg xmlns=\"http://www.w3.org/2000/svg\" height=\"24px\" viewBox=\"0 -960 960 960\">\n",
              "    <path d=\"M120-120v-720h720v720H120Zm60-500h600v-160H180v160Zm220 220h160v-160H400v160Zm0 220h160v-160H400v160ZM180-400h160v-160H180v160Zm440 0h160v-160H620v160ZM180-180h160v-160H180v160Zm440 0h160v-160H620v160Z\"/>\n",
              "  </svg>\n",
              "    </button>\n",
              "\n",
              "  <style>\n",
              "    .colab-df-container {\n",
              "      display:flex;\n",
              "      gap: 12px;\n",
              "    }\n",
              "\n",
              "    .colab-df-convert {\n",
              "      background-color: #E8F0FE;\n",
              "      border: none;\n",
              "      border-radius: 50%;\n",
              "      cursor: pointer;\n",
              "      display: none;\n",
              "      fill: #1967D2;\n",
              "      height: 32px;\n",
              "      padding: 0 0 0 0;\n",
              "      width: 32px;\n",
              "    }\n",
              "\n",
              "    .colab-df-convert:hover {\n",
              "      background-color: #E2EBFA;\n",
              "      box-shadow: 0px 1px 2px rgba(60, 64, 67, 0.3), 0px 1px 3px 1px rgba(60, 64, 67, 0.15);\n",
              "      fill: #174EA6;\n",
              "    }\n",
              "\n",
              "    .colab-df-buttons div {\n",
              "      margin-bottom: 4px;\n",
              "    }\n",
              "\n",
              "    [theme=dark] .colab-df-convert {\n",
              "      background-color: #3B4455;\n",
              "      fill: #D2E3FC;\n",
              "    }\n",
              "\n",
              "    [theme=dark] .colab-df-convert:hover {\n",
              "      background-color: #434B5C;\n",
              "      box-shadow: 0px 1px 3px 1px rgba(0, 0, 0, 0.15);\n",
              "      filter: drop-shadow(0px 1px 2px rgba(0, 0, 0, 0.3));\n",
              "      fill: #FFFFFF;\n",
              "    }\n",
              "  </style>\n",
              "\n",
              "    <script>\n",
              "      const buttonEl =\n",
              "        document.querySelector('#df-aac61212-5deb-43b0-8170-5e00b96c9633 button.colab-df-convert');\n",
              "      buttonEl.style.display =\n",
              "        google.colab.kernel.accessAllowed ? 'block' : 'none';\n",
              "\n",
              "      async function convertToInteractive(key) {\n",
              "        const element = document.querySelector('#df-aac61212-5deb-43b0-8170-5e00b96c9633');\n",
              "        const dataTable =\n",
              "          await google.colab.kernel.invokeFunction('convertToInteractive',\n",
              "                                                    [key], {});\n",
              "        if (!dataTable) return;\n",
              "\n",
              "        const docLinkHtml = 'Like what you see? Visit the ' +\n",
              "          '<a target=\"_blank\" href=https://colab.research.google.com/notebooks/data_table.ipynb>data table notebook</a>'\n",
              "          + ' to learn more about interactive tables.';\n",
              "        element.innerHTML = '';\n",
              "        dataTable['output_type'] = 'display_data';\n",
              "        await google.colab.output.renderOutput(dataTable, element);\n",
              "        const docLink = document.createElement('div');\n",
              "        docLink.innerHTML = docLinkHtml;\n",
              "        element.appendChild(docLink);\n",
              "      }\n",
              "    </script>\n",
              "  </div>\n",
              "\n",
              "\n",
              "    <div id=\"df-844c756f-4478-4faf-97a7-911fbc9fed30\">\n",
              "      <button class=\"colab-df-quickchart\" onclick=\"quickchart('df-844c756f-4478-4faf-97a7-911fbc9fed30')\"\n",
              "                title=\"Suggest charts\"\n",
              "                style=\"display:none;\">\n",
              "\n",
              "<svg xmlns=\"http://www.w3.org/2000/svg\" height=\"24px\"viewBox=\"0 0 24 24\"\n",
              "     width=\"24px\">\n",
              "    <g>\n",
              "        <path d=\"M19 3H5c-1.1 0-2 .9-2 2v14c0 1.1.9 2 2 2h14c1.1 0 2-.9 2-2V5c0-1.1-.9-2-2-2zM9 17H7v-7h2v7zm4 0h-2V7h2v10zm4 0h-2v-4h2v4z\"/>\n",
              "    </g>\n",
              "</svg>\n",
              "      </button>\n",
              "\n",
              "<style>\n",
              "  .colab-df-quickchart {\n",
              "      --bg-color: #E8F0FE;\n",
              "      --fill-color: #1967D2;\n",
              "      --hover-bg-color: #E2EBFA;\n",
              "      --hover-fill-color: #174EA6;\n",
              "      --disabled-fill-color: #AAA;\n",
              "      --disabled-bg-color: #DDD;\n",
              "  }\n",
              "\n",
              "  [theme=dark] .colab-df-quickchart {\n",
              "      --bg-color: #3B4455;\n",
              "      --fill-color: #D2E3FC;\n",
              "      --hover-bg-color: #434B5C;\n",
              "      --hover-fill-color: #FFFFFF;\n",
              "      --disabled-bg-color: #3B4455;\n",
              "      --disabled-fill-color: #666;\n",
              "  }\n",
              "\n",
              "  .colab-df-quickchart {\n",
              "    background-color: var(--bg-color);\n",
              "    border: none;\n",
              "    border-radius: 50%;\n",
              "    cursor: pointer;\n",
              "    display: none;\n",
              "    fill: var(--fill-color);\n",
              "    height: 32px;\n",
              "    padding: 0;\n",
              "    width: 32px;\n",
              "  }\n",
              "\n",
              "  .colab-df-quickchart:hover {\n",
              "    background-color: var(--hover-bg-color);\n",
              "    box-shadow: 0 1px 2px rgba(60, 64, 67, 0.3), 0 1px 3px 1px rgba(60, 64, 67, 0.15);\n",
              "    fill: var(--button-hover-fill-color);\n",
              "  }\n",
              "\n",
              "  .colab-df-quickchart-complete:disabled,\n",
              "  .colab-df-quickchart-complete:disabled:hover {\n",
              "    background-color: var(--disabled-bg-color);\n",
              "    fill: var(--disabled-fill-color);\n",
              "    box-shadow: none;\n",
              "  }\n",
              "\n",
              "  .colab-df-spinner {\n",
              "    border: 2px solid var(--fill-color);\n",
              "    border-color: transparent;\n",
              "    border-bottom-color: var(--fill-color);\n",
              "    animation:\n",
              "      spin 1s steps(1) infinite;\n",
              "  }\n",
              "\n",
              "  @keyframes spin {\n",
              "    0% {\n",
              "      border-color: transparent;\n",
              "      border-bottom-color: var(--fill-color);\n",
              "      border-left-color: var(--fill-color);\n",
              "    }\n",
              "    20% {\n",
              "      border-color: transparent;\n",
              "      border-left-color: var(--fill-color);\n",
              "      border-top-color: var(--fill-color);\n",
              "    }\n",
              "    30% {\n",
              "      border-color: transparent;\n",
              "      border-left-color: var(--fill-color);\n",
              "      border-top-color: var(--fill-color);\n",
              "      border-right-color: var(--fill-color);\n",
              "    }\n",
              "    40% {\n",
              "      border-color: transparent;\n",
              "      border-right-color: var(--fill-color);\n",
              "      border-top-color: var(--fill-color);\n",
              "    }\n",
              "    60% {\n",
              "      border-color: transparent;\n",
              "      border-right-color: var(--fill-color);\n",
              "    }\n",
              "    80% {\n",
              "      border-color: transparent;\n",
              "      border-right-color: var(--fill-color);\n",
              "      border-bottom-color: var(--fill-color);\n",
              "    }\n",
              "    90% {\n",
              "      border-color: transparent;\n",
              "      border-bottom-color: var(--fill-color);\n",
              "    }\n",
              "  }\n",
              "</style>\n",
              "\n",
              "      <script>\n",
              "        async function quickchart(key) {\n",
              "          const quickchartButtonEl =\n",
              "            document.querySelector('#' + key + ' button');\n",
              "          quickchartButtonEl.disabled = true;  // To prevent multiple clicks.\n",
              "          quickchartButtonEl.classList.add('colab-df-spinner');\n",
              "          try {\n",
              "            const charts = await google.colab.kernel.invokeFunction(\n",
              "                'suggestCharts', [key], {});\n",
              "          } catch (error) {\n",
              "            console.error('Error during call to suggestCharts:', error);\n",
              "          }\n",
              "          quickchartButtonEl.classList.remove('colab-df-spinner');\n",
              "          quickchartButtonEl.classList.add('colab-df-quickchart-complete');\n",
              "        }\n",
              "        (() => {\n",
              "          let quickchartButtonEl =\n",
              "            document.querySelector('#df-844c756f-4478-4faf-97a7-911fbc9fed30 button');\n",
              "          quickchartButtonEl.style.display =\n",
              "            google.colab.kernel.accessAllowed ? 'block' : 'none';\n",
              "        })();\n",
              "      </script>\n",
              "    </div>\n",
              "\n",
              "    </div>\n",
              "  </div>\n"
            ],
            "application/vnd.google.colaboratory.intrinsic+json": {
              "type": "dataframe",
              "variable_name": "df",
              "summary": "{\n  \"name\": \"df\",\n  \"rows\": 1100,\n  \"fields\": [\n    {\n      \"column\": \"Building_ID\",\n      \"properties\": {\n        \"dtype\": \"string\",\n        \"num_unique_values\": 1100,\n        \"samples\": [\n          \"BLD-1328-VC\",\n          \"BLD-1688-MK\",\n          \"BLD-1413-KG\"\n        ],\n        \"semantic_type\": \"\",\n        \"description\": \"\"\n      }\n    },\n    {\n      \"column\": \"Building_Type\",\n      \"properties\": {\n        \"dtype\": \"category\",\n        \"num_unique_values\": 3,\n        \"samples\": [\n          \"Residential\",\n          \"Commercial\",\n          \"Industrial\"\n        ],\n        \"semantic_type\": \"\",\n        \"description\": \"\"\n      }\n    },\n    {\n      \"column\": \"Governorate\",\n      \"properties\": {\n        \"dtype\": \"category\",\n        \"num_unique_values\": 3,\n        \"samples\": [\n          \"Alexandria\",\n          \"Giza\",\n          \"Cairo\"\n        ],\n        \"semantic_type\": \"\",\n        \"description\": \"\"\n      }\n    },\n    {\n      \"column\": \"Neighborhood\",\n      \"properties\": {\n        \"dtype\": \"string\",\n        \"num_unique_values\": 848,\n        \"samples\": [\n          \"!Gleem22\",\n          \"New Cairo-6\",\n          \"Mohandessin#6\"\n        ],\n        \"semantic_type\": \"\",\n        \"description\": \"\"\n      }\n    },\n    {\n      \"column\": \"Day_of_Week\",\n      \"properties\": {\n        \"dtype\": \"category\",\n        \"num_unique_values\": 42,\n        \"samples\": [\n          \"Thursday\",\n          \"SuNday\",\n          \"SUNDAY\"\n        ],\n        \"semantic_type\": \"\",\n        \"description\": \"\"\n      }\n    },\n    {\n      \"column\": \"Occupancy_Level\",\n      \"properties\": {\n        \"dtype\": \"category\",\n        \"num_unique_values\": 3,\n        \"samples\": [\n          \"High\",\n          \"Medium\",\n          \"Low\"\n        ],\n        \"semantic_type\": \"\",\n        \"description\": \"\"\n      }\n    },\n    {\n      \"column\": \"Appliances_Usage_Level\",\n      \"properties\": {\n        \"dtype\": \"category\",\n        \"num_unique_values\": 3,\n        \"samples\": [\n          \"Low\",\n          \"High\",\n          \"Medium\"\n        ],\n        \"semantic_type\": \"\",\n        \"description\": \"\"\n      }\n    },\n    {\n      \"column\": \"SquareFootage\",\n      \"properties\": {\n        \"dtype\": \"string\",\n        \"num_unique_values\": 1095,\n        \"samples\": [\n          \"29552m2\",\n          \"29878m2\",\n          \"6654\"\n        ],\n        \"semantic_type\": \"\",\n        \"description\": \"\"\n      }\n    },\n    {\n      \"column\": \"Last_Maintenance_Date\",\n      \"properties\": {\n        \"dtype\": \"object\",\n        \"num_unique_values\": 727,\n        \"samples\": [\n          \"2023-04-09\",\n          \"2022-02-02\",\n          \"2023-09-14\"\n        ],\n        \"semantic_type\": \"\",\n        \"description\": \"\"\n      }\n    },\n    {\n      \"column\": \"Average_Temperature\",\n      \"properties\": {\n        \"dtype\": \"number\",\n        \"std\": 10.703805516085001,\n        \"min\": -4.91,\n        \"max\": 50.0,\n        \"num_unique_values\": 796,\n        \"samples\": [\n          21.92,\n          34.93,\n          24.59\n        ],\n        \"semantic_type\": \"\",\n        \"description\": \"\"\n      }\n    },\n    {\n      \"column\": \"Energy_Consumption\",\n      \"properties\": {\n        \"dtype\": \"string\",\n        \"num_unique_values\": 1100,\n        \"samples\": [\n          \"3708.08 kWh\",\n          \"3372.2 kWh\",\n          \"5023.85 kWh\"\n        ],\n        \"semantic_type\": \"\",\n        \"description\": \"\"\n      }\n    }\n  ]\n}"
            }
          },
          "metadata": {},
          "execution_count": 80
        }
      ],
      "source": [
        "import pandas as pd\n",
        "import numpy as np\n",
        "import matplotlib.pyplot as plt\n",
        "import seaborn as sns\n",
        "\n",
        "try:\n",
        "    df = pd.read_csv('energy_data.csv')\n",
        "except:\n",
        "    df = pd.read_csv('https://raw.githubusercontent.com/GUC-DM/W2025/refs/heads/main/data/energy_data.csv')\n",
        "\n",
        "df.head()"
      ]
    },
    {
      "cell_type": "markdown",
      "id": "139e67c5",
      "metadata": {
        "id": "139e67c5"
      },
      "source": [
        "## Data Inspection\n",
        "\n",
        "Perform data inspection tasks here (recommended for data understanding)."
      ]
    },
    {
      "cell_type": "code",
      "execution_count": 81,
      "id": "2ca36fe4",
      "metadata": {
        "id": "2ca36fe4",
        "colab": {
          "base_uri": "https://localhost:8080/",
          "height": 489
        },
        "outputId": "0f074805-0bc7-4457-b5d4-646c22bcc16b"
      },
      "outputs": [
        {
          "output_type": "execute_result",
          "data": {
            "text/plain": [
              "Neighborhood\n",
              "Smouha          45\n",
              "Gleem           44\n",
              "Dokki           41\n",
              "Mohandessin     38\n",
              "New Cairo       32\n",
              "                ..\n",
              "%Smouha42        1\n",
              "+Maadi7          1\n",
              "^Dokki97         1\n",
              "=59Dokki         1\n",
              "%51New Cairo     1\n",
              "Name: count, Length: 848, dtype: int64"
            ],
            "text/html": [
              "<div>\n",
              "<style scoped>\n",
              "    .dataframe tbody tr th:only-of-type {\n",
              "        vertical-align: middle;\n",
              "    }\n",
              "\n",
              "    .dataframe tbody tr th {\n",
              "        vertical-align: top;\n",
              "    }\n",
              "\n",
              "    .dataframe thead th {\n",
              "        text-align: right;\n",
              "    }\n",
              "</style>\n",
              "<table border=\"1\" class=\"dataframe\">\n",
              "  <thead>\n",
              "    <tr style=\"text-align: right;\">\n",
              "      <th></th>\n",
              "      <th>count</th>\n",
              "    </tr>\n",
              "    <tr>\n",
              "      <th>Neighborhood</th>\n",
              "      <th></th>\n",
              "    </tr>\n",
              "  </thead>\n",
              "  <tbody>\n",
              "    <tr>\n",
              "      <th>Smouha</th>\n",
              "      <td>45</td>\n",
              "    </tr>\n",
              "    <tr>\n",
              "      <th>Gleem</th>\n",
              "      <td>44</td>\n",
              "    </tr>\n",
              "    <tr>\n",
              "      <th>Dokki</th>\n",
              "      <td>41</td>\n",
              "    </tr>\n",
              "    <tr>\n",
              "      <th>Mohandessin</th>\n",
              "      <td>38</td>\n",
              "    </tr>\n",
              "    <tr>\n",
              "      <th>New Cairo</th>\n",
              "      <td>32</td>\n",
              "    </tr>\n",
              "    <tr>\n",
              "      <th>...</th>\n",
              "      <td>...</td>\n",
              "    </tr>\n",
              "    <tr>\n",
              "      <th>%Smouha42</th>\n",
              "      <td>1</td>\n",
              "    </tr>\n",
              "    <tr>\n",
              "      <th>+Maadi7</th>\n",
              "      <td>1</td>\n",
              "    </tr>\n",
              "    <tr>\n",
              "      <th>^Dokki97</th>\n",
              "      <td>1</td>\n",
              "    </tr>\n",
              "    <tr>\n",
              "      <th>=59Dokki</th>\n",
              "      <td>1</td>\n",
              "    </tr>\n",
              "    <tr>\n",
              "      <th>%51New Cairo</th>\n",
              "      <td>1</td>\n",
              "    </tr>\n",
              "  </tbody>\n",
              "</table>\n",
              "<p>848 rows × 1 columns</p>\n",
              "</div><br><label><b>dtype:</b> int64</label>"
            ]
          },
          "metadata": {},
          "execution_count": 81
        }
      ],
      "source": [
        "df.head(10)\n",
        "df.tail()\n",
        "df.shape\n",
        "df.isnull().sum()\n",
        "df.duplicated().sum()\n",
        "df['Governorate'].value_counts()\n",
        "df['Neighborhood'].value_counts()"
      ]
    },
    {
      "cell_type": "markdown",
      "id": "6833ef67",
      "metadata": {
        "id": "6833ef67"
      },
      "source": [
        "## Data Pre-Processing & Cleaning\n",
        "\n",
        "_Apply any data preprocessing and/or feature engineering below. Show/output the changes to the dataset._"
      ]
    },
    {
      "cell_type": "code",
      "execution_count": 84,
      "id": "88d7f45a",
      "metadata": {
        "id": "88d7f45a",
        "colab": {
          "base_uri": "https://localhost:8080/"
        },
        "outputId": "c07ec0dc-e0b8-48fe-c1fc-19d51ef73c19"
      },
      "outputs": [
        {
          "output_type": "stream",
          "name": "stdout",
          "text": [
            "      Building_ID Building_Type Governorate Neighborhood Day_of_Week  \\\n",
            "0     BLD-1000-UD   Residential  Alexandria       Smouha   Wednesday   \n",
            "1     BLD-1001-AX    Commercial        Giza  Mohandessin     Tuesday   \n",
            "2     BLD-1002-IH    Industrial       Cairo    New Cairo      Sunday   \n",
            "3     BLD-1003-HE   Residential        Giza        Dokki     Tuesday   \n",
            "4     BLD-1004-XD    Commercial  Alexandria       Smouha      Monday   \n",
            "...           ...           ...         ...          ...         ...   \n",
            "1095  BLD-2095-OH    Commercial        Giza        Dokki    Saturday   \n",
            "1096  BLD-2096-RH   Residential        Giza        Dokki      Sunday   \n",
            "1097  BLD-2097-JZ    Commercial        Giza  Mohandessin      Sunday   \n",
            "1098  BLD-2098-ZP    Industrial  Alexandria       Smouha    Saturday   \n",
            "1099  BLD-2099-GL   Residential       Cairo    New Cairo      Friday   \n",
            "\n",
            "     Occupancy_Level Appliances_Usage_Level SquareFootage  \\\n",
            "0               High                    Low       7063 m²   \n",
            "1               High                   High      44372 m²   \n",
            "2             Medium                    Low      19255 m²   \n",
            "3                Low                   High      13265 m²   \n",
            "4                Low                    Low      13375 m²   \n",
            "...              ...                    ...           ...   \n",
            "1095            High                    Low       1161 m²   \n",
            "1096          Medium                 Medium      37943 m²   \n",
            "1097             Low                 Medium       1558 m²   \n",
            "1098          Medium                    Low       2145 m²   \n",
            "1099            High                 Medium      42414 m²   \n",
            "\n",
            "     Last_Maintenance_Date  Average_Temperature Energy_Consumption  \n",
            "0               2020-01-01                28.61        2713.95 kWh  \n",
            "1               2022-02-24                35.26        5744.99 kWh  \n",
            "2               2021-02-22                37.88        4101.24 kWh  \n",
            "3               2023-07-30                35.06        3009.14 kWh  \n",
            "4               2022-08-12                28.82        3279.17 kWh  \n",
            "...                    ...                  ...                ...  \n",
            "1095            2022-04-21                27.85        3010.81 kWh  \n",
            "1096            2024-10-31                36.23        4248.49 kWh  \n",
            "1097            2021-04-18                20.00         2843.6 kWh  \n",
            "1098            2023-09-14                34.43        3348.39 kWh  \n",
            "1099            2020-12-09                40.37        4722.59 kWh  \n",
            "\n",
            "[1100 rows x 11 columns]\n"
          ]
        }
      ],
      "source": [
        "df=df.drop_duplicates()\n",
        "df['Day_of_Week'] = df['Day_of_Week'].str.capitalize()\n",
        "df['Neighborhood'] = df['Neighborhood'].str.extract('([a-zA-Z\\\\s]+)', expand=False).str.strip()\n",
        "df['Average_Temperature']= df['Average_Temperature'].fillna(df['Average_Temperature'].median())\n",
        "mapping = {\n",
        "    'Smouha': 'Alexandria',\n",
        "    'Gleem': 'Alexandria',\n",
        "    'Dokki': 'Giza',\n",
        "    'Mohandessin': 'Giza',\n",
        "    'New Cairo': 'Cairo',\n",
        "    'Maadi': 'Cairo',\n",
        "    'Heliopolis': 'Cairo'\n",
        "}\n",
        "df['Governorate'] = df['Neighborhood'].map(mapping).fillna('Unknown')\n",
        "df['Building_Type'] = df['Building_Type'].fillna(df['Building_Type'].mode()[0])\n",
        "df['SquareFootage'] = df['SquareFootage'].str.replace(r'\\s*m2', ' m²', regex=True)\n",
        "df['SquareFootage'] = df['SquareFootage'].apply(\n",
        "    lambda x: x if 'm²' in x else f\"{x} m²\"\n",
        ")\n",
        "\n",
        "print(df)\n"
      ]
    },
    {
      "cell_type": "code",
      "source": [
        "import missingno as msno\n",
        "msno.matrix(df)"
      ],
      "metadata": {
        "colab": {
          "base_uri": "https://localhost:8080/",
          "height": 654
        },
        "id": "ThFqiuye4cmO",
        "outputId": "2f4335c8-ff98-4b9b-8048-17cb3c57ad84"
      },
      "id": "ThFqiuye4cmO",
      "execution_count": 85,
      "outputs": [
        {
          "output_type": "execute_result",
          "data": {
            "text/plain": [
              "<Axes: >"
            ]
          },
          "metadata": {},
          "execution_count": 85
        },
        {
          "output_type": "display_data",
          "data": {
            "text/plain": [
              "<Figure size 2500x1000 with 2 Axes>"
            ],
            "image/png": "[encoded data removed]"
          },
          "metadata": {}
        }
      ]
    },
    {
      "cell_type": "markdown",
      "id": "88bdafa3",
      "metadata": {
        "id": "88bdafa3"
      },
      "source": [
        "## Exploratory Data Analysis"
      ]
    },
    {
      "cell_type": "markdown",
      "id": "d41ea6c3",
      "metadata": {
        "id": "d41ea6c3"
      },
      "source": [
        "**Q1:** What are the most popular neighborhoods? plot all and order them on the graph (mention top 3)\n",
        "\n",
        "**Visualization**"
      ]
    },
    {
      "cell_type": "code",
      "execution_count": null,
      "id": "19156b96",
      "metadata": {
        "id": "19156b96"
      },
      "outputs": [],
      "source": []
    },
    {
      "cell_type": "markdown",
      "id": "2e0c8f51",
      "metadata": {
        "id": "2e0c8f51"
      },
      "source": [
        "**Answer for Q1:** _Your answer here_"
      ]
    },
    {
      "cell_type": "markdown",
      "id": "ee97be92",
      "metadata": {
        "id": "ee97be92"
      },
      "source": [
        "**Q2:** Show the distribution of the energy consumption of each Building type.\n",
        "\n",
        "Which type have the widest distribution of energy consumption?\n",
        "\n",
        "Which (on average) has the highest consumption?.\n",
        "\n",
        "**Visualization**"
      ]
    },
    {
      "cell_type": "code",
      "execution_count": null,
      "id": "ec865cd8",
      "metadata": {
        "id": "ec865cd8"
      },
      "outputs": [],
      "source": []
    },
    {
      "cell_type": "markdown",
      "id": "e783cbbf",
      "metadata": {
        "id": "e783cbbf"
      },
      "source": [
        "**Answer for Q2:** _Your answer here_"
      ]
    },
    {
      "cell_type": "markdown",
      "id": "ad9f42b8",
      "metadata": {
        "id": "ad9f42b8"
      },
      "source": [
        "**Q3:** How does the building size affect energy consumption?\n",
        "\n",
        "**Visualization**"
      ]
    },
    {
      "cell_type": "code",
      "execution_count": null,
      "id": "f90a6d0e",
      "metadata": {
        "id": "f90a6d0e"
      },
      "outputs": [],
      "source": []
    },
    {
      "cell_type": "markdown",
      "id": "07eaceac",
      "metadata": {
        "id": "07eaceac"
      },
      "source": [
        "**Answer for Q3:** _Your answer here_"
      ]
    },
    {
      "cell_type": "markdown",
      "id": "2b766c6d",
      "metadata": {
        "id": "2b766c6d"
      },
      "source": [
        "**Q4:** Do buildings consume more energy if not maintained frequently?\n",
        "\n",
        "**Visualization**"
      ]
    },
    {
      "cell_type": "code",
      "execution_count": null,
      "id": "23f83afd",
      "metadata": {
        "id": "23f83afd"
      },
      "outputs": [],
      "source": []
    },
    {
      "cell_type": "markdown",
      "id": "62146aa6",
      "metadata": {
        "id": "62146aa6"
      },
      "source": [
        "**Answer for Q4:** _Your answer here_"
      ]
    },
    {
      "cell_type": "markdown",
      "id": "38ba2b33",
      "metadata": {
        "id": "38ba2b33"
      },
      "source": [
        "**Q5:** Are all the numerical variables normally distributed, or is there any skewness?\n",
        "\n",
        "**Visualization**"
      ]
    },
    {
      "cell_type": "code",
      "execution_count": null,
      "id": "16de46d9",
      "metadata": {
        "id": "16de46d9"
      },
      "outputs": [],
      "source": []
    },
    {
      "cell_type": "markdown",
      "id": "0e6e4dd4",
      "metadata": {
        "id": "0e6e4dd4"
      },
      "source": [
        "**Answer for Q5:** _Your answer here_"
      ]
    },
    {
      "cell_type": "markdown",
      "id": "1f6cf928",
      "metadata": {
        "id": "1f6cf928"
      },
      "source": [
        "**Q6:** What is multicollinearity? And why is it a problem for linear regression? Does this problem exist in this\n",
        "dataset?\n",
        "\n",
        "**Visualization**"
      ]
    },
    {
      "cell_type": "code",
      "execution_count": null,
      "id": "c099e907",
      "metadata": {
        "id": "c099e907"
      },
      "outputs": [],
      "source": []
    },
    {
      "cell_type": "markdown",
      "id": "f6f89b0e",
      "metadata": {
        "id": "f6f89b0e"
      },
      "source": [
        "**Answer for Q6:** _Your answer here_"
      ]
    },
    {
      "cell_type": "markdown",
      "id": "aecd76ce",
      "metadata": {
        "id": "aecd76ce"
      },
      "source": [
        "## Data Preparation for Modelling\n",
        "\n",
        "_Apply any additional data preparation steps needed before modelling below. Show/output the changes to the dataset._"
      ]
    },
    {
      "cell_type": "code",
      "execution_count": null,
      "id": "8e373980",
      "metadata": {
        "id": "8e373980"
      },
      "outputs": [],
      "source": []
    },
    {
      "cell_type": "markdown",
      "id": "ef043cf5",
      "metadata": {
        "id": "ef043cf5"
      },
      "source": [
        "## Modelling\n",
        "\n",
        "_Apply the linear regression model below._"
      ]
    },
    {
      "cell_type": "code",
      "execution_count": null,
      "id": "f1661863",
      "metadata": {
        "id": "f1661863"
      },
      "outputs": [],
      "source": []
    },
    {
      "cell_type": "markdown",
      "id": "5ab2de19",
      "metadata": {
        "id": "5ab2de19"
      },
      "source": [
        "## Model Evaluation\n",
        "\n",
        "Evaluate the model you applied."
      ]
    },
    {
      "cell_type": "code",
      "execution_count": null,
      "id": "7612d8c7",
      "metadata": {
        "id": "7612d8c7"
      },
      "outputs": [],
      "source": []
    },
    {
      "cell_type": "markdown",
      "id": "19ba6f5f",
      "metadata": {
        "id": "19ba6f5f"
      },
      "source": [
        "## Conclusion and Recommendations\n",
        "\n",
        "Comment on the model performance and your findings from model evaluation. State the problems (if any) and suggest possible solutions. Would you recommend this model for an electrcity company aiming to estimate the energy levels of each building?\n",
        "\n",
        "**Answer**: your answer here."
      ]
    },
    {
      "cell_type": "code",
      "execution_count": null,
      "id": "3ad31ed1-1535-40c3-b192-1468219fd9c0",
      "metadata": {
        "id": "3ad31ed1-1535-40c3-b192-1468219fd9c0"
      },
      "outputs": [],
      "source": []
    }
  ],
  "metadata": {
    "colab": {
      "provenance": []
    },
    "kernelspec": {
      "display_name": "Python 3 (ipykernel)",
      "language": "python",
      "name": "python3"
    },
    "language_info": {
      "codemirror_mode": {
        "name": "ipython",
        "version": 3
      },
      "file_extension": ".py",
      "mimetype": "text/x-python",
      "name": "python",
      "nbconvert_exporter": "python",
      "pygments_lexer": "ipython3",
      "version": "3.13.5"
    }
  },
  "nbformat": 4,
  "nbformat_minor": 5
}